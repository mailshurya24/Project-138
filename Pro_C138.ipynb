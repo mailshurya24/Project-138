!pip install kaggle
from google.colab import files
files.upload()
!mkdir -p ~/.kaggle
!cp kaggle.json ~/.kaggle/
!chmod 600 ~/.kaggle/kaggle.json
!kaggle datasets download -d gspmoreira/articles-sharing-reading-from-cit-deskdrop
!ls
!unzip articles-sharing-reading-from-cit-deskdrop.zip 
!ls
import pandas as pd 
import numpy as np 
df1=pd.read_csv('shared_articles.csv')
df2=pd.read_csv('users_interactions.csv')
df1.head()
df2.head()
